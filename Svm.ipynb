{
 "cells": [
  {
   "cell_type": "code",
   "execution_count": 1,
   "metadata": {},
   "outputs": [],
   "source": [
    "import pandas as pd\n",
    "from sklearn.model_selection import train_test_split\n",
    "from sklearn.preprocessing import StandardScaler\n",
    "from sklearn.svm import SVC\n",
    "from sklearn.metrics import accuracy_score, confusion_matrix, classification_report, roc_auc_score\n",
    "from sklearn.model_selection import StratifiedKFold, GridSearchCV\n",
    "import matplotlib.pyplot as plt\n",
    "import seaborn as sns"
   ]
  },
  {
   "cell_type": "code",
   "execution_count": 2,
   "metadata": {},
   "outputs": [],
   "source": [
    "data = pd.read_csv('customerTargeting.csv')"
   ]
  },
  {
   "cell_type": "code",
   "execution_count": 3,
   "metadata": {},
   "outputs": [
    {
     "name": "stdout",
     "output_type": "stream",
     "text": [
      "<class 'pandas.core.frame.DataFrame'>\n",
      "RangeIndex: 6620 entries, 0 to 6619\n",
      "Data columns (total 71 columns):\n",
      " #   Column  Non-Null Count  Dtype  \n",
      "---  ------  --------------  -----  \n",
      " 0   g1_1    6620 non-null   float64\n",
      " 1   g1_2    6620 non-null   int64  \n",
      " 2   g1_3    6620 non-null   int64  \n",
      " 3   g1_4    6620 non-null   int64  \n",
      " 4   g1_5    6620 non-null   int64  \n",
      " 5   g1_6    6620 non-null   int64  \n",
      " 6   g1_7    6620 non-null   int64  \n",
      " 7   g1_8    6620 non-null   int64  \n",
      " 8   g1_9    6620 non-null   int64  \n",
      " 9   g1_10   6620 non-null   int64  \n",
      " 10  g1_11   6620 non-null   int64  \n",
      " 11  g1_12   6620 non-null   int64  \n",
      " 12  g1_13   6620 non-null   float64\n",
      " 13  g1_14   6620 non-null   float64\n",
      " 14  g1_15   6620 non-null   float64\n",
      " 15  g1_16   6620 non-null   float64\n",
      " 16  g1_17   6620 non-null   float64\n",
      " 17  g1_18   6620 non-null   float64\n",
      " 18  g1_19   6620 non-null   float64\n",
      " 19  g1_20   6620 non-null   float64\n",
      " 20  g1_21   6620 non-null   float64\n",
      " 21  g2_1    6620 non-null   float64\n",
      " 22  g2_2    6620 non-null   int64  \n",
      " 23  g2_3    6620 non-null   int64  \n",
      " 24  g2_4    6620 non-null   int64  \n",
      " 25  g2_5    6620 non-null   int64  \n",
      " 26  g2_6    6620 non-null   int64  \n",
      " 27  g2_7    6620 non-null   int64  \n",
      " 28  g2_8    6620 non-null   int64  \n",
      " 29  g2_9    6620 non-null   int64  \n",
      " 30  g2_10   6620 non-null   int64  \n",
      " 31  g2_11   6620 non-null   int64  \n",
      " 32  g2_12   6620 non-null   int64  \n",
      " 33  g2_13   6620 non-null   float64\n",
      " 34  g2_14   6620 non-null   float64\n",
      " 35  g2_15   6620 non-null   float64\n",
      " 36  g2_16   6620 non-null   float64\n",
      " 37  g2_17   6620 non-null   float64\n",
      " 38  g2_18   6620 non-null   float64\n",
      " 39  g2_19   6620 non-null   float64\n",
      " 40  g2_20   6620 non-null   float64\n",
      " 41  g2_21   6620 non-null   float64\n",
      " 42  c_1     6620 non-null   float64\n",
      " 43  c_2     6620 non-null   int64  \n",
      " 44  c_3     6620 non-null   int64  \n",
      " 45  c_4     6620 non-null   int64  \n",
      " 46  c_5     6620 non-null   int64  \n",
      " 47  c_6     6620 non-null   int64  \n",
      " 48  c_7     6620 non-null   int64  \n",
      " 49  c_8     6620 non-null   int64  \n",
      " 50  c_9     6620 non-null   float64\n",
      " 51  c_10    6620 non-null   int64  \n",
      " 52  c_11    6620 non-null   int64  \n",
      " 53  c_12    6620 non-null   int64  \n",
      " 54  c_13    6620 non-null   int64  \n",
      " 55  c_14    6620 non-null   int64  \n",
      " 56  c_15    6620 non-null   int64  \n",
      " 57  c_16    6620 non-null   int64  \n",
      " 58  c_17    6620 non-null   int64  \n",
      " 59  c_18    6620 non-null   int64  \n",
      " 60  c_19    6620 non-null   int64  \n",
      " 61  c_20    6620 non-null   float64\n",
      " 62  c_21    6620 non-null   float64\n",
      " 63  c_22    6620 non-null   float64\n",
      " 64  c_23    6620 non-null   float64\n",
      " 65  c_24    6620 non-null   int64  \n",
      " 66  c_25    6620 non-null   float64\n",
      " 67  c_26    6620 non-null   float64\n",
      " 68  c_27    6620 non-null   float64\n",
      " 69  c_28    6620 non-null   float64\n",
      " 70  target  6620 non-null   int64  \n",
      "dtypes: float64(30), int64(41)\n",
      "memory usage: 3.6 MB\n",
      "None\n"
     ]
    }
   ],
   "source": [
    "print(data.info())"
   ]
  },
  {
   "cell_type": "code",
   "execution_count": 4,
   "metadata": {},
   "outputs": [
    {
     "name": "stdout",
     "output_type": "stream",
     "text": [
      "              g1_1         g1_2         g1_3         g1_4         g1_5   \n",
      "count  6620.000000  6620.000000  6620.000000  6620.000000  6620.000000  \\\n",
      "mean      2.708779    14.424018    10.485650    24.909668    10.988066   \n",
      "std       1.857725    10.700787     8.384203    18.174948     5.635985   \n",
      "min       1.050000     0.000000     0.000000     0.000000     1.000000   \n",
      "25%       1.667000     6.000000     4.000000    10.000000     6.000000   \n",
      "50%       2.150000    13.000000     9.000000    22.000000    11.000000   \n",
      "75%       2.800000    21.000000    15.000000    36.000000    16.000000   \n",
      "max      23.000000    52.000000    47.000000    94.000000    20.000000   \n",
      "\n",
      "              g1_6         g1_7         g1_8         g1_9        g1_10  ...   \n",
      "count  6620.000000  6620.000000  6620.000000  6620.000000  6620.000000  ...  \\\n",
      "mean     13.412085    10.161027    10.745468    14.169033     3.251057  ...   \n",
      "std      10.090030     7.495039     7.964247     9.866734     8.481210  ...   \n",
      "min       0.000000     0.000000     0.000000     0.000000   -27.000000  ...   \n",
      "25%       5.000000     4.000000     4.000000     6.000000    -2.000000  ...   \n",
      "50%      12.000000     9.000000     9.000000    13.000000     1.000000  ...   \n",
      "75%      20.000000    15.000000    16.000000    21.000000     7.000000  ...   \n",
      "max      61.000000    43.000000    48.000000    52.000000    48.000000  ...   \n",
      "\n",
      "              c_20         c_21         c_22         c_23        c_24   \n",
      "count  6620.000000  6620.000000  6620.000000  6620.000000  6620.00000  \\\n",
      "mean     -0.029311    -0.006724    -0.004147     0.008827     0.00000   \n",
      "std       1.220752     1.068199     0.663238     0.683422     0.32287   \n",
      "min      -4.684111    -4.319826    -2.512919    -3.118836    -2.00000   \n",
      "25%      -0.716407    -0.531224    -0.440407    -0.406811     0.00000   \n",
      "50%       0.000000     0.000000     0.000000     0.001070     0.00000   \n",
      "75%       0.654627     0.490504     0.410915     0.450104     0.00000   \n",
      "max       4.821136     4.396281     2.987136     2.830550     2.00000   \n",
      "\n",
      "              c_25         c_26         c_27         c_28       target  \n",
      "count  6620.000000  6620.000000  6620.000000  6620.000000  6620.000000  \n",
      "mean     -0.228426    -0.103728     0.000408     1.917134     1.031722  \n",
      "std       3.390902     1.944419     0.092761     0.302175     0.731042  \n",
      "min     -15.202740    -9.181722    -0.750000     0.000000     0.000000  \n",
      "25%      -2.222226    -1.293471    -0.054331     1.710000     0.000000  \n",
      "50%      -0.119378    -0.012487     0.000000     1.850000     1.000000  \n",
      "75%       1.809334     1.035235     0.054825     2.020000     2.000000  \n",
      "max      12.562698     8.209578     0.666667     4.330000     2.000000  \n",
      "\n",
      "[8 rows x 71 columns]\n"
     ]
    }
   ],
   "source": [
    "print(data.describe())"
   ]
  },
  {
   "cell_type": "code",
   "execution_count": 5,
   "metadata": {},
   "outputs": [
    {
     "data": {
      "image/png": "[encoded data removed]",
      "text/plain": [
       "<Figure size 640x480 with 1 Axes>"
      ]
     },
     "metadata": {},
     "output_type": "display_data"
    }
   ],
   "source": [
    "# Visualisasi distribusi kelas target\n",
    "sns.countplot(x='target', data=data)\n",
    "plt.show()"
   ]
  },
  {
   "cell_type": "code",
   "execution_count": 6,
   "metadata": {},
   "outputs": [],
   "source": [
    "# Declare feature vector and target variable\n",
    "X = data.drop('target', axis=1)\n",
    "y = data['target']\n"
   ]
  },
  {
   "cell_type": "code",
   "execution_count": 8,
   "metadata": {},
   "outputs": [],
   "source": [
    "# Split data into separate training and test set\n",
    "X_train, X_test, y_train, y_test = train_test_split(X, y, test_size=0.2, random_state=42)"
   ]
  },
  {
   "cell_type": "code",
   "execution_count": 9,
   "metadata": {},
   "outputs": [],
   "source": [
    "# Feature scaling\n",
    "scaler = StandardScaler()\n",
    "X_train = scaler.fit_transform(X_train)\n",
    "X_test = scaler.transform(X_test)"
   ]
  },
  {
   "cell_type": "code",
   "execution_count": 10,
   "metadata": {},
   "outputs": [
    {
     "name": "stdout",
     "output_type": "stream",
     "text": [
      "Accuracy (Default): 0.5823262839879154\n"
     ]
    }
   ],
   "source": [
    "# Run SVM with default hyperparameters\n",
    "svm_default = SVC()\n",
    "svm_default.fit(X_train, y_train)\n",
    "y_pred_default = svm_default.predict(X_test)\n",
    "accuracy_default = accuracy_score(y_test, y_pred_default)\n",
    "print(\"Accuracy (Default):\", accuracy_default)\n"
   ]
  },
  {
   "cell_type": "code",
   "execution_count": 11,
   "metadata": {},
   "outputs": [
    {
     "name": "stdout",
     "output_type": "stream",
     "text": [
      "Accuracy (Linear): 0.5740181268882175\n"
     ]
    }
   ],
   "source": [
    "# Run SVM with linear kernel\n",
    "svm_linear = SVC(kernel='linear')\n",
    "svm_linear.fit(X_train, y_train)\n",
    "y_pred_linear = svm_linear.predict(X_test)\n",
    "accuracy_linear = accuracy_score(y_test, y_pred_linear)\n",
    "print(\"Accuracy (Linear):\", accuracy_linear)"
   ]
  },
  {
   "cell_type": "code",
   "execution_count": 12,
   "metadata": {},
   "outputs": [
    {
     "name": "stdout",
     "output_type": "stream",
     "text": [
      "Accuracy (Polynomial): 0.5400302114803626\n"
     ]
    }
   ],
   "source": [
    "# Run SVM with polynomial kernel\n",
    "svm_poly = SVC(kernel='poly')\n",
    "svm_poly.fit(X_train, y_train)\n",
    "y_pred_poly = svm_poly.predict(X_test)\n",
    "accuracy_poly = accuracy_score(y_test, y_pred_poly)\n",
    "print(\"Accuracy (Polynomial):\", accuracy_poly)\n"
   ]
  },
  {
   "cell_type": "code",
   "execution_count": 13,
   "metadata": {},
   "outputs": [
    {
     "name": "stdout",
     "output_type": "stream",
     "text": [
      "Accuracy (Sigmoid): 0.45317220543806647\n"
     ]
    }
   ],
   "source": [
    "# Run SVM with sigmoid kernel\n",
    "svm_sigmoid = SVC(kernel='sigmoid')\n",
    "svm_sigmoid.fit(X_train, y_train)\n",
    "y_pred_sigmoid = svm_sigmoid.predict(X_test)\n",
    "accuracy_sigmoid = accuracy_score(y_test, y_pred_sigmoid)\n",
    "print(\"Accuracy (Sigmoid):\", accuracy_sigmoid)\n"
   ]
  },
  {
   "cell_type": "code",
   "execution_count": 14,
   "metadata": {},
   "outputs": [
    {
     "name": "stdout",
     "output_type": "stream",
     "text": [
      "Confusion Matrix:\n",
      "[[ 10 234  84]\n",
      " [  6 537  61]\n",
      " [ 13 166 213]]\n"
     ]
    }
   ],
   "source": [
    "# Confusion matrix\n",
    "cm = confusion_matrix(y_test, y_pred_linear)\n",
    "print(\"Confusion Matrix:\")\n",
    "print(cm)"
   ]
  },
  {
   "cell_type": "code",
   "execution_count": 15,
   "metadata": {},
   "outputs": [
    {
     "name": "stdout",
     "output_type": "stream",
     "text": [
      "Classification Report:\n",
      "              precision    recall  f1-score   support\n",
      "\n",
      "           0       0.34      0.03      0.06       328\n",
      "           1       0.57      0.89      0.70       604\n",
      "           2       0.59      0.54      0.57       392\n",
      "\n",
      "    accuracy                           0.57      1324\n",
      "   macro avg       0.50      0.49      0.44      1324\n",
      "weighted avg       0.52      0.57      0.50      1324\n",
      "\n"
     ]
    }
   ],
   "source": [
    "# Classification metrics\n",
    "print(\"Classification Report:\")\n",
    "print(classification_report(y_test, y_pred_linear))\n"
   ]
  },
  {
   "cell_type": "code",
   "execution_count": 18,
   "metadata": {},
   "outputs": [
    {
     "name": "stdout",
     "output_type": "stream",
     "text": [
      "ROC - AUC Scores for Each Class:\n",
      "Class 0 : 0.46832451758252525\n",
      "Class 1 : 0.7627138520971303\n",
      "Class 2 : 0.7881530831216608\n"
     ]
    }
   ],
   "source": [
    "from sklearn.preprocessing import label_binarize\n",
    "\n",
    "# Convert target variable to binary form\n",
    "y_test_binary = label_binarize(y_test, classes=svm_linear.classes_)\n",
    "\n",
    "# Calculate decision scores for each class\n",
    "y_scores_linear = svm_linear.decision_function(X_test)\n",
    "\n",
    "# Calculate ROC-AUC for each class\n",
    "auc_scores = []\n",
    "for i in range(len(svm_linear.classes_)):\n",
    "    auc = roc_auc_score(y_test_binary[:, i], y_scores_linear[:, i])\n",
    "    auc_scores.append(auc)\n",
    "\n",
    "print(\"ROC - AUC Scores for Each Class:\")\n",
    "for i, auc in enumerate(auc_scores):\n",
    "    print(\"Class\", svm_linear.classes_[i], \":\", auc)\n"
   ]
  },
  {
   "cell_type": "code",
   "execution_count": 19,
   "metadata": {},
   "outputs": [
    {
     "name": "stdout",
     "output_type": "stream",
     "text": [
      "Cross Validation Scores: [0.5702416918429003, 0.5687311178247734, 0.5641993957703928, 0.5657099697885196, 0.5793051359516617]\n"
     ]
    }
   ],
   "source": [
    "# Stratified k-fold Cross Validation with shuffle split\n",
    "skf = StratifiedKFold(n_splits=5, shuffle=True, random_state=42)\n",
    "scores = []\n",
    "for train_index, test_index in skf.split(X, y):\n",
    "    X_train_cv, X_test_cv = X.iloc[train_index], X.iloc[test_index]\n",
    "    y_train_cv, y_test_cv = y.iloc[train_index], y.iloc[test_index]\n",
    "    \n",
    "    svm_cv = SVC(kernel='linear')\n",
    "    svm_cv.fit(X_train_cv, y_train_cv)\n",
    "    y_pred_cv = svm_cv.predict(X_test_cv)\n",
    "    accuracy_cv = accuracy_score(y_test_cv, y_pred_cv)\n",
    "    scores.append(accuracy_cv)\n",
    "\n",
    "print(\"Cross Validation Scores:\", scores)"
   ]
  },
  {
   "cell_type": "code",
   "execution_count": 20,
   "metadata": {},
   "outputs": [
    {
     "name": "stdout",
     "output_type": "stream",
     "text": [
      "Best Parameters: {'C': 0.1, 'gamma': 0.1, 'kernel': 'linear'}\n"
     ]
    }
   ],
   "source": [
    "# Hyperparameter optimization using GridSearch CV\n",
    "param_grid = {'C': [0.1, 1, 10],\n",
    "              'kernel': ['linear', 'poly', 'rbf', 'sigmoid'],\n",
    "              'gamma': [0.1, 1, 10]}\n",
    "grid_search = GridSearchCV(SVC(), param_grid, cv=5)\n",
    "grid_search.fit(X_train, y_train)\n",
    "best_params = grid_search.best_params_\n",
    "print(\"Best Parameters:\", best_params)"
   ]
  },
  {
   "cell_type": "code",
   "execution_count": 21,
   "metadata": {},
   "outputs": [
    {
     "name": "stdout",
     "output_type": "stream",
     "text": [
      "Accuracy (Best Model): 0.5777945619335347\n"
     ]
    }
   ],
   "source": [
    "# Results and conclusion\n",
    "best_model = SVC(**best_params)\n",
    "best_model.fit(X_train, y_train)\n",
    "y_pred_best = best_model.predict(X_test)\n",
    "accuracy_best = accuracy_score(y_test, y_pred_best)\n",
    "print(\"Accuracy (Best Model):\", accuracy_best)"
   ]
  }
 ],
 "metadata": {
  "kernelspec": {
   "display_name": "Python 3",
   "language": "python",
   "name": "python3"
  },
  "language_info": {
   "codemirror_mode": {
    "name": "ipython",
    "version": 3
   },
   "file_extension": ".py",
   "mimetype": "text/x-python",
   "name": "python",
   "nbconvert_exporter": "python",
   "pygments_lexer": "ipython3",
   "version": "3.11.3"
  },
  "orig_nbformat": 4
 },
 "nbformat": 4,
 "nbformat_minor": 2
}
